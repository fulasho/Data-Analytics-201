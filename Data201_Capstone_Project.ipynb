{
  "nbformat": 4,
  "nbformat_minor": 0,
  "metadata": {
    "colab": {
      "name": "Data201 Capstone Project.ipynb",
      "provenance": [],
      "collapsed_sections": [],
      "authorship_tag": "ABX9TyPCfJ97avTInLGEXblH5OFZ",
      "include_colab_link": true
    },
    "kernelspec": {
      "name": "python3",
      "display_name": "Python 3"
    },
    "language_info": {
      "name": "python"
    }
  },
  "cells": [
    {
      "cell_type": "markdown",
      "metadata": {
        "id": "view-in-github",
        "colab_type": "text"
      },
      "source": [
        "<a href=\"https://colab.research.google.com/github/fulasho/Data-Analytics-201/blob/main/Data201_Capstone_Project.ipynb\" target=\"_parent\"><img src=\"https://colab.research.google.com/assets/colab-badge.svg\" alt=\"Open In Colab\"/></a>"
      ]
    },
    {
      "cell_type": "markdown",
      "source": [
        "The goal of this Capstone project is to study the violation issued by the Business integrity commission to an approved and unlicensed company in the trade waste industry in the United States of America. Some of the essential questions for developing this project are: founding out the total number issued violation in each state involved in the trade waste industry at the same time classify them by borough. At last, we going to try to find the maximum and minimum fine paid by companies and what was the reason. \n",
        "\n",
        "\n",
        "The data set BIC issued violation used for this analysis was taken from NYC OpenData. It contains violation issued by the business integrity commission (BIC) for companies operating in the trade waste industry. This dataset was created on December 26, 2018, and the last update was on January 24, 2022. \n",
        "This dataset contains 7324 rows and 31 Columns each row is an issued violation. Among these rows we had 53 duplicated and 0 null values. \n",
        "It has 3 different types of data: float, object, and bool. \n",
        "\n",
        "The first violation issued was in September 2002 and the last was in January 2022.\n",
        "\n",
        "\n",
        "The tools for data analysis used in this project are the packages Numpy and Pandas, and to visualize and explore the data: Matplotlib and Seaborn.\n"
      ],
      "metadata": {
        "id": "e8jBbXq3i2vd"
      }
    },
    {
      "cell_type": "code",
      "execution_count": 1,
      "metadata": {
        "id": "jN-_DJR20tIq"
      },
      "outputs": [],
      "source": [
        "import pandas as pd\n",
        "import numpy as np\n",
        "import seaborn as sn\n",
        "import matplotlib.pyplot as plt\n",
        "%matplotlib inline"
      ]
    },
    {
      "cell_type": "code",
      "source": [
        "df = pd.read_csv('/content/sample_data/BIC_Issued_Violations.csv')"
      ],
      "metadata": {
        "id": "CaOjk5qL08u7"
      },
      "execution_count": 2,
      "outputs": []
    },
    {
      "cell_type": "code",
      "source": [
        "df.head()"
      ],
      "metadata": {
        "colab": {
          "base_uri": "https://localhost:8080/",
          "height": 617
        },
        "id": "1YsTpmkQ1QMX",
        "outputId": "a3afb9bf-c433-46de-9805-08ed45ca6071"
      },
      "execution_count": 3,
      "outputs": [
        {
          "output_type": "execute_result",
          "data": {
            "text/html": [
              "\n",
              "  <div id=\"df-d2885565-da3e-491d-8b5b-db9a6f5a3d38\">\n",
              "    <div class=\"colab-df-container\">\n",
              "      <div>\n",
              "<style scoped>\n",
              "    .dataframe tbody tr th:only-of-type {\n",
              "        vertical-align: middle;\n",
              "    }\n",
              "\n",
              "    .dataframe tbody tr th {\n",
              "        vertical-align: top;\n",
              "    }\n",
              "\n",
              "    .dataframe thead th {\n",
              "        text-align: right;\n",
              "    }\n",
              "</style>\n",
              "<table border=\"1\" class=\"dataframe\">\n",
              "  <thead>\n",
              "    <tr style=\"text-align: right;\">\n",
              "      <th></th>\n",
              "      <th>VIOLATION NUMBER</th>\n",
              "      <th>BIC NUMBER</th>\n",
              "      <th>ACCOUNT NAME</th>\n",
              "      <th>TYPE OF VIOLATION</th>\n",
              "      <th>VIOLATION PHASE</th>\n",
              "      <th>VIOLATION DISPOSITION</th>\n",
              "      <th>ACCOUNT TYPE</th>\n",
              "      <th>VIOLATION ACCOUNT ADDRESS</th>\n",
              "      <th>VIOLATION ACCOUNT CITY</th>\n",
              "      <th>VIOLATION ACCOUNT STATE</th>\n",
              "      <th>VIOLATION ACCOUNT POSTCODE</th>\n",
              "      <th>BOROUGH OF VIOLATION</th>\n",
              "      <th>DATE OF VIOLATION</th>\n",
              "      <th>DATE VIOLATION ISSUED</th>\n",
              "      <th>MAXIMUM FINE</th>\n",
              "      <th>FINE AMOUNT</th>\n",
              "      <th>DATE FINE PAID</th>\n",
              "      <th>EARLY SETTLEMENT VIOLATION</th>\n",
              "      <th>SETTLEMENT DATE</th>\n",
              "      <th>RULE CODE</th>\n",
              "      <th>NUMBER OF COUNTS</th>\n",
              "      <th>DESCRIPTION OF RULE</th>\n",
              "      <th>EXPORT DATE</th>\n",
              "      <th>Latitude</th>\n",
              "      <th>Longitude</th>\n",
              "      <th>Community Board</th>\n",
              "      <th>Council District</th>\n",
              "      <th>Census Tract</th>\n",
              "      <th>BIN</th>\n",
              "      <th>BBL</th>\n",
              "      <th>NTA</th>\n",
              "    </tr>\n",
              "  </thead>\n",
              "  <tbody>\n",
              "    <tr>\n",
              "      <th>0</th>\n",
              "      <td>TWC-220836</td>\n",
              "      <td>NaN</td>\n",
              "      <td>BLACKRIDGE CONSTRUCTION, LLC.</td>\n",
              "      <td>OATH</td>\n",
              "      <td>Issued</td>\n",
              "      <td>Settled</td>\n",
              "      <td>Unlicensed</td>\n",
              "      <td>1162 GRINNELL PLACE</td>\n",
              "      <td>BRONX</td>\n",
              "      <td>NY</td>\n",
              "      <td>10474</td>\n",
              "      <td>Bronx</td>\n",
              "      <td>01/12/2021</td>\n",
              "      <td>2021-06-09T16:41:00.000Z</td>\n",
              "      <td>10000.0</td>\n",
              "      <td>250.0</td>\n",
              "      <td>06/10/2021</td>\n",
              "      <td>True</td>\n",
              "      <td>NaN</td>\n",
              "      <td>17 RCNY 5-08(n)</td>\n",
              "      <td>1.0</td>\n",
              "      <td>Failed to provide off-street parking for vehic...</td>\n",
              "      <td>01/18/2022</td>\n",
              "      <td>40.812194</td>\n",
              "      <td>-73.894012</td>\n",
              "      <td>2.0</td>\n",
              "      <td>17.0</td>\n",
              "      <td>93.0</td>\n",
              "      <td>2094348.0</td>\n",
              "      <td>2.027360e+09</td>\n",
              "      <td>Hunts Point</td>\n",
              "    </tr>\n",
              "    <tr>\n",
              "      <th>1</th>\n",
              "      <td>TWC-218141</td>\n",
              "      <td>1641.0</td>\n",
              "      <td>LIFFEY VAN LINES, INC.</td>\n",
              "      <td>OATH</td>\n",
              "      <td>Issued</td>\n",
              "      <td>Settled</td>\n",
              "      <td>CL1</td>\n",
              "      <td>NaN</td>\n",
              "      <td>NaN</td>\n",
              "      <td>NaN</td>\n",
              "      <td>NaN</td>\n",
              "      <td>NaN</td>\n",
              "      <td>10/25/2019</td>\n",
              "      <td>2019-10-25T18:25:00.000Z</td>\n",
              "      <td>1000.0</td>\n",
              "      <td>250.0</td>\n",
              "      <td>10/29/2019</td>\n",
              "      <td>False</td>\n",
              "      <td>NaN</td>\n",
              "      <td>17 RCNY 2-05(b)</td>\n",
              "      <td>1.0</td>\n",
              "      <td>Failed to timely notify Commission of a materi...</td>\n",
              "      <td>01/18/2022</td>\n",
              "      <td>NaN</td>\n",
              "      <td>NaN</td>\n",
              "      <td>NaN</td>\n",
              "      <td>NaN</td>\n",
              "      <td>NaN</td>\n",
              "      <td>NaN</td>\n",
              "      <td>NaN</td>\n",
              "      <td>NaN</td>\n",
              "    </tr>\n",
              "    <tr>\n",
              "      <th>2</th>\n",
              "      <td>TWC-211515</td>\n",
              "      <td>4301.0</td>\n",
              "      <td>THE ASTOR COMPANY</td>\n",
              "      <td>OATH</td>\n",
              "      <td>Issued</td>\n",
              "      <td>Settled</td>\n",
              "      <td>CL2 - Broker</td>\n",
              "      <td>724 ENTERPRISE DRIVE</td>\n",
              "      <td>OAK BROOK</td>\n",
              "      <td>IL</td>\n",
              "      <td>60523</td>\n",
              "      <td>NaN</td>\n",
              "      <td>03/23/2015</td>\n",
              "      <td>2015-03-23T16:05:00.000Z</td>\n",
              "      <td>49000.0</td>\n",
              "      <td>1200.0</td>\n",
              "      <td>03/24/2015</td>\n",
              "      <td>False</td>\n",
              "      <td>NaN</td>\n",
              "      <td>NYC AC 16-505(b)</td>\n",
              "      <td>19.0</td>\n",
              "      <td>Removed collected or disposed of trade waste o...</td>\n",
              "      <td>01/18/2022</td>\n",
              "      <td>NaN</td>\n",
              "      <td>NaN</td>\n",
              "      <td>NaN</td>\n",
              "      <td>NaN</td>\n",
              "      <td>NaN</td>\n",
              "      <td>NaN</td>\n",
              "      <td>NaN</td>\n",
              "      <td>NaN</td>\n",
              "    </tr>\n",
              "    <tr>\n",
              "      <th>3</th>\n",
              "      <td>TWC-211492</td>\n",
              "      <td>311.0</td>\n",
              "      <td>CROWN WASTE CORP</td>\n",
              "      <td>OATH</td>\n",
              "      <td>Issued</td>\n",
              "      <td>Settled</td>\n",
              "      <td>License</td>\n",
              "      <td>P.O. BOX 1133</td>\n",
              "      <td>BETHPAGE</td>\n",
              "      <td>NY</td>\n",
              "      <td>11714</td>\n",
              "      <td>Manhattan</td>\n",
              "      <td>03/18/2015</td>\n",
              "      <td>2015-07-10T14:32:00.000Z</td>\n",
              "      <td>0.0</td>\n",
              "      <td>600.0</td>\n",
              "      <td>07/15/2015</td>\n",
              "      <td>False</td>\n",
              "      <td>NaN</td>\n",
              "      <td>17 RCNY 3-01(a)</td>\n",
              "      <td>1.0</td>\n",
              "      <td>Failed to disclose employee</td>\n",
              "      <td>01/18/2022</td>\n",
              "      <td>NaN</td>\n",
              "      <td>NaN</td>\n",
              "      <td>NaN</td>\n",
              "      <td>NaN</td>\n",
              "      <td>NaN</td>\n",
              "      <td>NaN</td>\n",
              "      <td>NaN</td>\n",
              "      <td>NaN</td>\n",
              "    </tr>\n",
              "    <tr>\n",
              "      <th>4</th>\n",
              "      <td>TWC-218430</td>\n",
              "      <td>NaN</td>\n",
              "      <td>RAFAEL TEJADA</td>\n",
              "      <td>OATH</td>\n",
              "      <td>Issued</td>\n",
              "      <td>Settled</td>\n",
              "      <td>Unlicensed</td>\n",
              "      <td>508 W 136th Street APT 12</td>\n",
              "      <td>New York</td>\n",
              "      <td>NY</td>\n",
              "      <td>10031</td>\n",
              "      <td>Manhattan</td>\n",
              "      <td>01/08/2020</td>\n",
              "      <td>2020-01-31T19:07:00.000Z</td>\n",
              "      <td>5000.0</td>\n",
              "      <td>2500.0</td>\n",
              "      <td>08/18/2021</td>\n",
              "      <td>False</td>\n",
              "      <td>NaN</td>\n",
              "      <td>NYC AC 16-505(a)</td>\n",
              "      <td>1.0</td>\n",
              "      <td>Removed collected or disposed of trade waste o...</td>\n",
              "      <td>01/18/2022</td>\n",
              "      <td>40.819990</td>\n",
              "      <td>-73.952753</td>\n",
              "      <td>9.0</td>\n",
              "      <td>7.0</td>\n",
              "      <td>22301.0</td>\n",
              "      <td>1059801.0</td>\n",
              "      <td>1.019880e+09</td>\n",
              "      <td>Manhattanville</td>\n",
              "    </tr>\n",
              "  </tbody>\n",
              "</table>\n",
              "</div>\n",
              "      <button class=\"colab-df-convert\" onclick=\"convertToInteractive('df-d2885565-da3e-491d-8b5b-db9a6f5a3d38')\"\n",
              "              title=\"Convert this dataframe to an interactive table.\"\n",
              "              style=\"display:none;\">\n",
              "        \n",
              "  <svg xmlns=\"http://www.w3.org/2000/svg\" height=\"24px\"viewBox=\"0 0 24 24\"\n",
              "       width=\"24px\">\n",
              "    <path d=\"M0 0h24v24H0V0z\" fill=\"none\"/>\n",
              "    <path d=\"M18.56 5.44l.94 2.06.94-2.06 2.06-.94-2.06-.94-.94-2.06-.94 2.06-2.06.94zm-11 1L8.5 8.5l.94-2.06 2.06-.94-2.06-.94L8.5 2.5l-.94 2.06-2.06.94zm10 10l.94 2.06.94-2.06 2.06-.94-2.06-.94-.94-2.06-.94 2.06-2.06.94z\"/><path d=\"M17.41 7.96l-1.37-1.37c-.4-.4-.92-.59-1.43-.59-.52 0-1.04.2-1.43.59L10.3 9.45l-7.72 7.72c-.78.78-.78 2.05 0 2.83L4 21.41c.39.39.9.59 1.41.59.51 0 1.02-.2 1.41-.59l7.78-7.78 2.81-2.81c.8-.78.8-2.07 0-2.86zM5.41 20L4 18.59l7.72-7.72 1.47 1.35L5.41 20z\"/>\n",
              "  </svg>\n",
              "      </button>\n",
              "      \n",
              "  <style>\n",
              "    .colab-df-container {\n",
              "      display:flex;\n",
              "      flex-wrap:wrap;\n",
              "      gap: 12px;\n",
              "    }\n",
              "\n",
              "    .colab-df-convert {\n",
              "      background-color: #E8F0FE;\n",
              "      border: none;\n",
              "      border-radius: 50%;\n",
              "      cursor: pointer;\n",
              "      display: none;\n",
              "      fill: #1967D2;\n",
              "      height: 32px;\n",
              "      padding: 0 0 0 0;\n",
              "      width: 32px;\n",
              "    }\n",
              "\n",
              "    .colab-df-convert:hover {\n",
              "      background-color: #E2EBFA;\n",
              "      box-shadow: 0px 1px 2px rgba(60, 64, 67, 0.3), 0px 1px 3px 1px rgba(60, 64, 67, 0.15);\n",
              "      fill: #174EA6;\n",
              "    }\n",
              "\n",
              "    [theme=dark] .colab-df-convert {\n",
              "      background-color: #3B4455;\n",
              "      fill: #D2E3FC;\n",
              "    }\n",
              "\n",
              "    [theme=dark] .colab-df-convert:hover {\n",
              "      background-color: #434B5C;\n",
              "      box-shadow: 0px 1px 3px 1px rgba(0, 0, 0, 0.15);\n",
              "      filter: drop-shadow(0px 1px 2px rgba(0, 0, 0, 0.3));\n",
              "      fill: #FFFFFF;\n",
              "    }\n",
              "  </style>\n",
              "\n",
              "      <script>\n",
              "        const buttonEl =\n",
              "          document.querySelector('#df-d2885565-da3e-491d-8b5b-db9a6f5a3d38 button.colab-df-convert');\n",
              "        buttonEl.style.display =\n",
              "          google.colab.kernel.accessAllowed ? 'block' : 'none';\n",
              "\n",
              "        async function convertToInteractive(key) {\n",
              "          const element = document.querySelector('#df-d2885565-da3e-491d-8b5b-db9a6f5a3d38');\n",
              "          const dataTable =\n",
              "            await google.colab.kernel.invokeFunction('convertToInteractive',\n",
              "                                                     [key], {});\n",
              "          if (!dataTable) return;\n",
              "\n",
              "          const docLinkHtml = 'Like what you see? Visit the ' +\n",
              "            '<a target=\"_blank\" href=https://colab.research.google.com/notebooks/data_table.ipynb>data table notebook</a>'\n",
              "            + ' to learn more about interactive tables.';\n",
              "          element.innerHTML = '';\n",
              "          dataTable['output_type'] = 'display_data';\n",
              "          await google.colab.output.renderOutput(dataTable, element);\n",
              "          const docLink = document.createElement('div');\n",
              "          docLink.innerHTML = docLinkHtml;\n",
              "          element.appendChild(docLink);\n",
              "        }\n",
              "      </script>\n",
              "    </div>\n",
              "  </div>\n",
              "  "
            ],
            "text/plain": [
              "  VIOLATION NUMBER  BIC NUMBER  ...           BBL             NTA\n",
              "0       TWC-220836         NaN  ...  2.027360e+09     Hunts Point\n",
              "1       TWC-218141      1641.0  ...           NaN             NaN\n",
              "2       TWC-211515      4301.0  ...           NaN             NaN\n",
              "3       TWC-211492       311.0  ...           NaN             NaN\n",
              "4       TWC-218430         NaN  ...  1.019880e+09  Manhattanville\n",
              "\n",
              "[5 rows x 31 columns]"
            ]
          },
          "metadata": {},
          "execution_count": 3
        }
      ]
    },
    {
      "cell_type": "code",
      "source": [
        "df.info()"
      ],
      "metadata": {
        "colab": {
          "base_uri": "https://localhost:8080/"
        },
        "id": "UF2dRYamBoK3",
        "outputId": "dd8a72da-65c4-4698-fd6b-bee99d1d00e8"
      },
      "execution_count": 4,
      "outputs": [
        {
          "output_type": "stream",
          "name": "stdout",
          "text": [
            "<class 'pandas.core.frame.DataFrame'>\n",
            "RangeIndex: 7316 entries, 0 to 7315\n",
            "Data columns (total 31 columns):\n",
            " #   Column                      Non-Null Count  Dtype  \n",
            "---  ------                      --------------  -----  \n",
            " 0   VIOLATION NUMBER            7316 non-null   object \n",
            " 1   BIC NUMBER                  2760 non-null   float64\n",
            " 2   ACCOUNT NAME                7316 non-null   object \n",
            " 3   TYPE OF VIOLATION           7316 non-null   object \n",
            " 4   VIOLATION PHASE             7316 non-null   object \n",
            " 5   VIOLATION DISPOSITION       7316 non-null   object \n",
            " 6   ACCOUNT TYPE                7316 non-null   object \n",
            " 7   VIOLATION ACCOUNT ADDRESS   7157 non-null   object \n",
            " 8   VIOLATION ACCOUNT CITY      7155 non-null   object \n",
            " 9   VIOLATION ACCOUNT STATE     7156 non-null   object \n",
            " 10  VIOLATION ACCOUNT POSTCODE  7152 non-null   object \n",
            " 11  BOROUGH OF VIOLATION        6509 non-null   object \n",
            " 12  DATE OF VIOLATION           7316 non-null   object \n",
            " 13  DATE VIOLATION ISSUED       7316 non-null   object \n",
            " 14  MAXIMUM FINE                7313 non-null   float64\n",
            " 15  FINE AMOUNT                 5676 non-null   float64\n",
            " 16  DATE FINE PAID              4589 non-null   object \n",
            " 17  EARLY SETTLEMENT VIOLATION  7316 non-null   bool   \n",
            " 18  SETTLEMENT DATE             619 non-null    object \n",
            " 19  RULE CODE                   7316 non-null   object \n",
            " 20  NUMBER OF COUNTS            7314 non-null   float64\n",
            " 21  DESCRIPTION OF RULE         7316 non-null   object \n",
            " 22  EXPORT DATE                 7316 non-null   object \n",
            " 23  Latitude                    4144 non-null   float64\n",
            " 24  Longitude                   4144 non-null   float64\n",
            " 25  Community Board             4144 non-null   float64\n",
            " 26  Council District            4144 non-null   float64\n",
            " 27  Census Tract                4144 non-null   float64\n",
            " 28  BIN                         4064 non-null   float64\n",
            " 29  BBL                         4064 non-null   float64\n",
            " 30  NTA                         4144 non-null   object \n",
            "dtypes: bool(1), float64(11), object(19)\n",
            "memory usage: 1.7+ MB\n"
          ]
        }
      ]
    },
    {
      "cell_type": "code",
      "source": [
        "df.duplicated().sum()"
      ],
      "metadata": {
        "colab": {
          "base_uri": "https://localhost:8080/"
        },
        "id": "g0I1tD6sFMUg",
        "outputId": "02184222-d7f9-40b3-8399-c0dff9e45efd"
      },
      "execution_count": 5,
      "outputs": [
        {
          "output_type": "execute_result",
          "data": {
            "text/plain": [
              "53"
            ]
          },
          "metadata": {},
          "execution_count": 5
        }
      ]
    },
    {
      "cell_type": "code",
      "source": [
        "df.drop_duplicates(subset=None, keep='first',inplace=True, ignore_index=False)"
      ],
      "metadata": {
        "id": "nXGRj_GLGSG8"
      },
      "execution_count": 6,
      "outputs": []
    },
    {
      "cell_type": "code",
      "source": [
        "df.duplicated().sum()"
      ],
      "metadata": {
        "colab": {
          "base_uri": "https://localhost:8080/"
        },
        "id": "7fkp4lTbPEmu",
        "outputId": "5cef7cad-9858-4892-c7d5-4723b7aee541"
      },
      "execution_count": 7,
      "outputs": [
        {
          "output_type": "execute_result",
          "data": {
            "text/plain": [
              "0"
            ]
          },
          "metadata": {},
          "execution_count": 7
        }
      ]
    },
    {
      "cell_type": "code",
      "source": [
        "df[\"DATE VIOLATION ISSUED\"].min()"
      ],
      "metadata": {
        "colab": {
          "base_uri": "https://localhost:8080/",
          "height": 35
        },
        "id": "E-QLB65wGL5a",
        "outputId": "e2f83d0f-57b9-4f4d-a8c2-c050a1eee041"
      },
      "execution_count": 8,
      "outputs": [
        {
          "output_type": "execute_result",
          "data": {
            "application/vnd.google.colaboratory.intrinsic+json": {
              "type": "string"
            },
            "text/plain": [
              "'2002-09-03T04:00:00.000Z'"
            ]
          },
          "metadata": {},
          "execution_count": 8
        }
      ]
    },
    {
      "cell_type": "code",
      "source": [
        "df[\"DATE VIOLATION ISSUED\"].max()"
      ],
      "metadata": {
        "colab": {
          "base_uri": "https://localhost:8080/",
          "height": 35
        },
        "id": "dvxEAP0JGYak",
        "outputId": "49f20cbc-72b9-4d52-f9ed-fc394133b98b"
      },
      "execution_count": 9,
      "outputs": [
        {
          "output_type": "execute_result",
          "data": {
            "application/vnd.google.colaboratory.intrinsic+json": {
              "type": "string"
            },
            "text/plain": [
              "'2022-01-18T15:37:00.000Z'"
            ]
          },
          "metadata": {},
          "execution_count": 9
        }
      ]
    },
    {
      "cell_type": "code",
      "source": [
        "# Let drop some columns that is unnecessary to this analysis"
      ],
      "metadata": {
        "id": "xkuD2onRjsaO"
      },
      "execution_count": 10,
      "outputs": []
    },
    {
      "cell_type": "code",
      "source": [
        "drop_cols=['BIC NUMBER','ACCOUNT TYPE','VIOLATION ACCOUNT ADDRESS','VIOLATION PHASE','DATE OF VIOLATION','DATE VIOLATION ISSUED','DATE FINE PAID','SETTLEMENT DATE','EXPORT DATE','Latitude','Longitude','Community Board','Council District','Census Tract','BIN','BBL','NTA']\n",
        "df.drop(drop_cols, inplace=True, axis=1)"
      ],
      "metadata": {
        "id": "bejg-EECUyKh"
      },
      "execution_count": 11,
      "outputs": []
    },
    {
      "cell_type": "code",
      "source": [
        "df.head()"
      ],
      "metadata": {
        "colab": {
          "base_uri": "https://localhost:8080/",
          "height": 458
        },
        "id": "bWBLa8qeYciQ",
        "outputId": "952cd7ae-4dd1-4155-9b91-443da27a8b8c"
      },
      "execution_count": 12,
      "outputs": [
        {
          "output_type": "execute_result",
          "data": {
            "text/html": [
              "\n",
              "  <div id=\"df-54dc1c4c-e778-4b98-972a-bc9ced88eaee\">\n",
              "    <div class=\"colab-df-container\">\n",
              "      <div>\n",
              "<style scoped>\n",
              "    .dataframe tbody tr th:only-of-type {\n",
              "        vertical-align: middle;\n",
              "    }\n",
              "\n",
              "    .dataframe tbody tr th {\n",
              "        vertical-align: top;\n",
              "    }\n",
              "\n",
              "    .dataframe thead th {\n",
              "        text-align: right;\n",
              "    }\n",
              "</style>\n",
              "<table border=\"1\" class=\"dataframe\">\n",
              "  <thead>\n",
              "    <tr style=\"text-align: right;\">\n",
              "      <th></th>\n",
              "      <th>VIOLATION NUMBER</th>\n",
              "      <th>ACCOUNT NAME</th>\n",
              "      <th>TYPE OF VIOLATION</th>\n",
              "      <th>VIOLATION DISPOSITION</th>\n",
              "      <th>VIOLATION ACCOUNT CITY</th>\n",
              "      <th>VIOLATION ACCOUNT STATE</th>\n",
              "      <th>VIOLATION ACCOUNT POSTCODE</th>\n",
              "      <th>BOROUGH OF VIOLATION</th>\n",
              "      <th>MAXIMUM FINE</th>\n",
              "      <th>FINE AMOUNT</th>\n",
              "      <th>EARLY SETTLEMENT VIOLATION</th>\n",
              "      <th>RULE CODE</th>\n",
              "      <th>NUMBER OF COUNTS</th>\n",
              "      <th>DESCRIPTION OF RULE</th>\n",
              "    </tr>\n",
              "  </thead>\n",
              "  <tbody>\n",
              "    <tr>\n",
              "      <th>0</th>\n",
              "      <td>TWC-220836</td>\n",
              "      <td>BLACKRIDGE CONSTRUCTION, LLC.</td>\n",
              "      <td>OATH</td>\n",
              "      <td>Settled</td>\n",
              "      <td>BRONX</td>\n",
              "      <td>NY</td>\n",
              "      <td>10474</td>\n",
              "      <td>Bronx</td>\n",
              "      <td>10000.0</td>\n",
              "      <td>250.0</td>\n",
              "      <td>True</td>\n",
              "      <td>17 RCNY 5-08(n)</td>\n",
              "      <td>1.0</td>\n",
              "      <td>Failed to provide off-street parking for vehic...</td>\n",
              "    </tr>\n",
              "    <tr>\n",
              "      <th>1</th>\n",
              "      <td>TWC-218141</td>\n",
              "      <td>LIFFEY VAN LINES, INC.</td>\n",
              "      <td>OATH</td>\n",
              "      <td>Settled</td>\n",
              "      <td>NaN</td>\n",
              "      <td>NaN</td>\n",
              "      <td>NaN</td>\n",
              "      <td>NaN</td>\n",
              "      <td>1000.0</td>\n",
              "      <td>250.0</td>\n",
              "      <td>False</td>\n",
              "      <td>17 RCNY 2-05(b)</td>\n",
              "      <td>1.0</td>\n",
              "      <td>Failed to timely notify Commission of a materi...</td>\n",
              "    </tr>\n",
              "    <tr>\n",
              "      <th>2</th>\n",
              "      <td>TWC-211515</td>\n",
              "      <td>THE ASTOR COMPANY</td>\n",
              "      <td>OATH</td>\n",
              "      <td>Settled</td>\n",
              "      <td>OAK BROOK</td>\n",
              "      <td>IL</td>\n",
              "      <td>60523</td>\n",
              "      <td>NaN</td>\n",
              "      <td>49000.0</td>\n",
              "      <td>1200.0</td>\n",
              "      <td>False</td>\n",
              "      <td>NYC AC 16-505(b)</td>\n",
              "      <td>19.0</td>\n",
              "      <td>Removed collected or disposed of trade waste o...</td>\n",
              "    </tr>\n",
              "    <tr>\n",
              "      <th>3</th>\n",
              "      <td>TWC-211492</td>\n",
              "      <td>CROWN WASTE CORP</td>\n",
              "      <td>OATH</td>\n",
              "      <td>Settled</td>\n",
              "      <td>BETHPAGE</td>\n",
              "      <td>NY</td>\n",
              "      <td>11714</td>\n",
              "      <td>Manhattan</td>\n",
              "      <td>0.0</td>\n",
              "      <td>600.0</td>\n",
              "      <td>False</td>\n",
              "      <td>17 RCNY 3-01(a)</td>\n",
              "      <td>1.0</td>\n",
              "      <td>Failed to disclose employee</td>\n",
              "    </tr>\n",
              "    <tr>\n",
              "      <th>4</th>\n",
              "      <td>TWC-218430</td>\n",
              "      <td>RAFAEL TEJADA</td>\n",
              "      <td>OATH</td>\n",
              "      <td>Settled</td>\n",
              "      <td>New York</td>\n",
              "      <td>NY</td>\n",
              "      <td>10031</td>\n",
              "      <td>Manhattan</td>\n",
              "      <td>5000.0</td>\n",
              "      <td>2500.0</td>\n",
              "      <td>False</td>\n",
              "      <td>NYC AC 16-505(a)</td>\n",
              "      <td>1.0</td>\n",
              "      <td>Removed collected or disposed of trade waste o...</td>\n",
              "    </tr>\n",
              "  </tbody>\n",
              "</table>\n",
              "</div>\n",
              "      <button class=\"colab-df-convert\" onclick=\"convertToInteractive('df-54dc1c4c-e778-4b98-972a-bc9ced88eaee')\"\n",
              "              title=\"Convert this dataframe to an interactive table.\"\n",
              "              style=\"display:none;\">\n",
              "        \n",
              "  <svg xmlns=\"http://www.w3.org/2000/svg\" height=\"24px\"viewBox=\"0 0 24 24\"\n",
              "       width=\"24px\">\n",
              "    <path d=\"M0 0h24v24H0V0z\" fill=\"none\"/>\n",
              "    <path d=\"M18.56 5.44l.94 2.06.94-2.06 2.06-.94-2.06-.94-.94-2.06-.94 2.06-2.06.94zm-11 1L8.5 8.5l.94-2.06 2.06-.94-2.06-.94L8.5 2.5l-.94 2.06-2.06.94zm10 10l.94 2.06.94-2.06 2.06-.94-2.06-.94-.94-2.06-.94 2.06-2.06.94z\"/><path d=\"M17.41 7.96l-1.37-1.37c-.4-.4-.92-.59-1.43-.59-.52 0-1.04.2-1.43.59L10.3 9.45l-7.72 7.72c-.78.78-.78 2.05 0 2.83L4 21.41c.39.39.9.59 1.41.59.51 0 1.02-.2 1.41-.59l7.78-7.78 2.81-2.81c.8-.78.8-2.07 0-2.86zM5.41 20L4 18.59l7.72-7.72 1.47 1.35L5.41 20z\"/>\n",
              "  </svg>\n",
              "      </button>\n",
              "      \n",
              "  <style>\n",
              "    .colab-df-container {\n",
              "      display:flex;\n",
              "      flex-wrap:wrap;\n",
              "      gap: 12px;\n",
              "    }\n",
              "\n",
              "    .colab-df-convert {\n",
              "      background-color: #E8F0FE;\n",
              "      border: none;\n",
              "      border-radius: 50%;\n",
              "      cursor: pointer;\n",
              "      display: none;\n",
              "      fill: #1967D2;\n",
              "      height: 32px;\n",
              "      padding: 0 0 0 0;\n",
              "      width: 32px;\n",
              "    }\n",
              "\n",
              "    .colab-df-convert:hover {\n",
              "      background-color: #E2EBFA;\n",
              "      box-shadow: 0px 1px 2px rgba(60, 64, 67, 0.3), 0px 1px 3px 1px rgba(60, 64, 67, 0.15);\n",
              "      fill: #174EA6;\n",
              "    }\n",
              "\n",
              "    [theme=dark] .colab-df-convert {\n",
              "      background-color: #3B4455;\n",
              "      fill: #D2E3FC;\n",
              "    }\n",
              "\n",
              "    [theme=dark] .colab-df-convert:hover {\n",
              "      background-color: #434B5C;\n",
              "      box-shadow: 0px 1px 3px 1px rgba(0, 0, 0, 0.15);\n",
              "      filter: drop-shadow(0px 1px 2px rgba(0, 0, 0, 0.3));\n",
              "      fill: #FFFFFF;\n",
              "    }\n",
              "  </style>\n",
              "\n",
              "      <script>\n",
              "        const buttonEl =\n",
              "          document.querySelector('#df-54dc1c4c-e778-4b98-972a-bc9ced88eaee button.colab-df-convert');\n",
              "        buttonEl.style.display =\n",
              "          google.colab.kernel.accessAllowed ? 'block' : 'none';\n",
              "\n",
              "        async function convertToInteractive(key) {\n",
              "          const element = document.querySelector('#df-54dc1c4c-e778-4b98-972a-bc9ced88eaee');\n",
              "          const dataTable =\n",
              "            await google.colab.kernel.invokeFunction('convertToInteractive',\n",
              "                                                     [key], {});\n",
              "          if (!dataTable) return;\n",
              "\n",
              "          const docLinkHtml = 'Like what you see? Visit the ' +\n",
              "            '<a target=\"_blank\" href=https://colab.research.google.com/notebooks/data_table.ipynb>data table notebook</a>'\n",
              "            + ' to learn more about interactive tables.';\n",
              "          element.innerHTML = '';\n",
              "          dataTable['output_type'] = 'display_data';\n",
              "          await google.colab.output.renderOutput(dataTable, element);\n",
              "          const docLink = document.createElement('div');\n",
              "          docLink.innerHTML = docLinkHtml;\n",
              "          element.appendChild(docLink);\n",
              "        }\n",
              "      </script>\n",
              "    </div>\n",
              "  </div>\n",
              "  "
            ],
            "text/plain": [
              "  VIOLATION NUMBER  ...                                DESCRIPTION OF RULE\n",
              "0       TWC-220836  ...  Failed to provide off-street parking for vehic...\n",
              "1       TWC-218141  ...  Failed to timely notify Commission of a materi...\n",
              "2       TWC-211515  ...  Removed collected or disposed of trade waste o...\n",
              "3       TWC-211492  ...                        Failed to disclose employee\n",
              "4       TWC-218430  ...  Removed collected or disposed of trade waste o...\n",
              "\n",
              "[5 rows x 14 columns]"
            ]
          },
          "metadata": {},
          "execution_count": 12
        }
      ]
    },
    {
      "cell_type": "code",
      "source": [
        "df['VIOLATION NUMBER'].is_unique"
      ],
      "metadata": {
        "colab": {
          "base_uri": "https://localhost:8080/"
        },
        "id": "inAc6hf5Zshy",
        "outputId": "4ce54a55-fcce-4881-ee09-029aeed34908"
      },
      "execution_count": 13,
      "outputs": [
        {
          "output_type": "execute_result",
          "data": {
            "text/plain": [
              "False"
            ]
          },
          "metadata": {},
          "execution_count": 13
        }
      ]
    },
    {
      "cell_type": "code",
      "source": [
        "df['DESCRIPTION OF RULE']"
      ],
      "metadata": {
        "colab": {
          "base_uri": "https://localhost:8080/"
        },
        "id": "eFhTV5pLcHS_",
        "outputId": "6fe347fb-bac2-4a36-ee25-ac3c279d0daa"
      },
      "execution_count": 14,
      "outputs": [
        {
          "output_type": "execute_result",
          "data": {
            "text/plain": [
              "0       Failed to provide off-street parking for vehic...\n",
              "1       Failed to timely notify Commission of a materi...\n",
              "2       Removed collected or disposed of trade waste o...\n",
              "3                             Failed to disclose employee\n",
              "4       Removed collected or disposed of trade waste o...\n",
              "                              ...                        \n",
              "7311    Failed to timely notify Commission of a materi...\n",
              "7312    Registrant failed to maintain clean and unobst...\n",
              "7313    Removed collected or disposed of trade waste o...\n",
              "7314    Failure to mark container with name, license n...\n",
              "7315       Failed to maintain or produce required records\n",
              "Name: DESCRIPTION OF RULE, Length: 7263, dtype: object"
            ]
          },
          "metadata": {},
          "execution_count": 14
        }
      ]
    },
    {
      "cell_type": "code",
      "source": [
        "# Let found out total number issued violation for each state involved in the trade waste industry by using the groupby function"
      ],
      "metadata": {
        "id": "vvusX-z2mZSE"
      },
      "execution_count": 24,
      "outputs": []
    },
    {
      "cell_type": "code",
      "source": [
        "df.groupby(['VIOLATION ACCOUNT STATE'])['VIOLATION NUMBER'].count().sort_values(ascending=False)"
      ],
      "metadata": {
        "colab": {
          "base_uri": "https://localhost:8080/"
        },
        "id": "aZHTdGlMrgUl",
        "outputId": "dec7d7e4-ab8f-4fad-e57c-8ca286bf9483"
      },
      "execution_count": 16,
      "outputs": [
        {
          "output_type": "execute_result",
          "data": {
            "text/plain": [
              "VIOLATION ACCOUNT STATE\n",
              "NY            5850\n",
              "NJ            1034\n",
              "PA              43\n",
              "CT              39\n",
              "IL              21\n",
              "MA              19\n",
              "FL              11\n",
              "GA              11\n",
              "NC              10\n",
              "VA               9\n",
              "New York         8\n",
              "MD               6\n",
              "N Y              5\n",
              "MN               5\n",
              "WA               4\n",
              "OH               4\n",
              "CA               3\n",
              "ny               3\n",
              "TX               3\n",
              "MI               2\n",
              "SC               2\n",
              "TN               2\n",
              "NY 10033         1\n",
              "New Jersey       1\n",
              "Ny               1\n",
              "DE               1\n",
              "VT               1\n",
              "Bronx            1\n",
              "AZ               1\n",
              "10306            1\n",
              "10030            1\n",
              "Name: VIOLATION NUMBER, dtype: int64"
            ]
          },
          "metadata": {},
          "execution_count": 16
        }
      ]
    },
    {
      "cell_type": "code",
      "source": [
        "df.groupby(['VIOLATION ACCOUNT STATE'])['VIOLATION NUMBER'].count().plot(kind=\"bar\", color=('red'),title ='Total Number of violation by state')\n",
        "plt.rc('font', size=14)"
      ],
      "metadata": {
        "colab": {
          "base_uri": "https://localhost:8080/",
          "height": 341
        },
        "id": "3mV6J5QAazxV",
        "outputId": "365f539a-ab63-448d-8460-329010eca996"
      },
      "execution_count": 17,
      "outputs": [
        {
          "output_type": "display_data",
          "data": {
            "image/png": "[encoded data removed]",
            "text/plain": [
              "<Figure size 432x288 with 1 Axes>"
            ]
          },
          "metadata": {
            "needs_background": "light"
          }
        }
      ]
    },
    {
      "cell_type": "code",
      "source": [
        "df.groupby(['BOROUGH OF VIOLATION'])['VIOLATION NUMBER'].count().sort_values(ascending=False)"
      ],
      "metadata": {
        "colab": {
          "base_uri": "https://localhost:8080/"
        },
        "id": "fQjOP00igwwB",
        "outputId": "eded4752-6c6e-4397-b595-cb38ca040b78"
      },
      "execution_count": 18,
      "outputs": [
        {
          "output_type": "execute_result",
          "data": {
            "text/plain": [
              "BOROUGH OF VIOLATION\n",
              "Manhattan        2278\n",
              "Brooklyn         1684\n",
              "Bronx            1281\n",
              "Queens            783\n",
              "Staten Island     356\n",
              "NEW JERSEY         28\n",
              "LONG ISLAND        21\n",
              "MASSACHUSETTS      10\n",
              "WESTCHESTER         8\n",
              "Other               8\n",
              "INTERNET            2\n",
              "Name: VIOLATION NUMBER, dtype: int64"
            ]
          },
          "metadata": {},
          "execution_count": 18
        }
      ]
    },
    {
      "cell_type": "code",
      "source": [
        "df.groupby(['BOROUGH OF VIOLATION'])['VIOLATION NUMBER'].count().plot(kind='bar',color=('orange'),title='Total Number of violation by Borough')\n",
        "plt.rc('font', size=14)"
      ],
      "metadata": {
        "colab": {
          "base_uri": "https://localhost:8080/",
          "height": 416
        },
        "id": "hTZzQFBCdxxS",
        "outputId": "6856376d-eb17-4a6c-b361-f0121fd740f5"
      },
      "execution_count": 23,
      "outputs": [
        {
          "output_type": "display_data",
          "data": {
            "image/png": "[encoded data removed]",
            "text/plain": [
              "<Figure size 432x288 with 1 Axes>"
            ]
          },
          "metadata": {
            "needs_background": "light"
          }
        }
      ]
    },
    {
      "cell_type": "code",
      "source": [
        "# In this part we going to try to found out what company has been issued the highest and the least fine and what was the violation"
      ],
      "metadata": {
        "id": "sAitQlheokVI"
      },
      "execution_count": 20,
      "outputs": []
    },
    {
      "cell_type": "code",
      "source": [
        "df.groupby(['ACCOUNT NAME','VIOLATION ACCOUNT STATE','RULE CODE'])['FINE AMOUNT'].max().sort_values(ascending=False)"
      ],
      "metadata": {
        "colab": {
          "base_uri": "https://localhost:8080/"
        },
        "id": "pCq0dXkjM6IT",
        "outputId": "a3675ef0-cbc5-4488-a8c2-518d4ee772e8"
      },
      "execution_count": 21,
      "outputs": [
        {
          "output_type": "execute_result",
          "data": {
            "text/plain": [
              "ACCOUNT NAME                                        VIOLATION ACCOUNT STATE  RULE CODE         \n",
              "WASTE CONNECTIONS OF NEW YORK, INC.                 NJ                       17 RCNY 5-03(b)       300000.0\n",
              "                                                                             17 RCNY 5-05(b)       300000.0\n",
              "                                                                             17 RCNY 5-05(a)(1)    300000.0\n",
              "                                                                             17 RCNY 5-05(b)(4)    300000.0\n",
              "                                                                             17 RCNY 5-02(a)       300000.0\n",
              "                                                                                                     ...   \n",
              "York Construction Inc. dba AM-Building Maintenance  NY                       NYC AC 16-505(a)           NaN\n",
              "Young Nmi Kim dba Tri State Construction            NY                       NYC AC 16-505(a)           NaN\n",
              "ZX Foods Inc.                                       NY                       NYC AC 16-505(a)           NaN\n",
              "Zack's Removal Rubbish LLC. dba S/A/A               NY                       NYC AC 16-505(a)           NaN\n",
              "Zhao, Juneng dba China Perfect                      NY                       NYC AC 16-505(a)           NaN\n",
              "Name: FINE AMOUNT, Length: 5005, dtype: float64"
            ]
          },
          "metadata": {},
          "execution_count": 21
        }
      ]
    },
    {
      "cell_type": "code",
      "source": [
        "df.groupby(['ACCOUNT NAME','VIOLATION ACCOUNT STATE','RULE CODE'])['FINE AMOUNT'].min()"
      ],
      "metadata": {
        "colab": {
          "base_uri": "https://localhost:8080/"
        },
        "id": "sVdlJ6A646ek",
        "outputId": "22eb9f74-cb55-45c0-f342-6032b687a3bd"
      },
      "execution_count": 22,
      "outputs": [
        {
          "output_type": "execute_result",
          "data": {
            "text/plain": [
              "ACCOUNT NAME                              VIOLATION ACCOUNT STATE  RULE CODE             \n",
              "# 1 WASTE & RECYCLER INC.                 NY                       17 RCNY 1-09               500.0\n",
              "                                                                   17 RCNY 2-05(a)(2)           0.0\n",
              "                                                                   17 RCNY 2-05(a)(3)           0.0\n",
              "                                                                   17 RCNY 2-05(a)(4)           0.0\n",
              "                                                                   17 RCNY 2-05(a)(6)           0.0\n",
              "                                                                                              ...  \n",
              "Zack's Removal Rubbish LLC. dba S/A/A     NY                       NYC AC 16-505(a)             NaN\n",
              "Zaim Contracting Corp                     NY                       17 RCNY 2-05(b)(1)(vi)     500.0\n",
              "Zbigniew Borawski dba Borek Construction  NY                       NYC AC 16-505(a)          2500.0\n",
              "Zengo Masonry                             NY                       NYC AC 16-505(a)          2500.0\n",
              "Zhao, Juneng dba China Perfect            NY                       NYC AC 16-505(a)             NaN\n",
              "Name: FINE AMOUNT, Length: 5005, dtype: float64"
            ]
          },
          "metadata": {},
          "execution_count": 22
        }
      ]
    },
    {
      "cell_type": "markdown",
      "source": [
        "**Findings and Conclusions, after cleaning,tidying and analyzing the data, I came to conclusion that New York state has the highest** **5850**(see plot1) issued violation related to the waste trade industry followed by New Jersey and PA respectively **1034** and **43**. In order to answer the second question, I had to classify the issued violations by borough and the founding is that NYC five Borough (Manthan, Brooklyn, Bronx, Queen, Bronx, and Staten Island) have the most issued violation followed by New Jersey and Massachusetts.\n",
        "\n",
        "Waste connection of New York Inc. paid the highest fine $300,000 for multiple infractions:\n",
        "Failed to timely apply for Commission approval before subcontracting or assigning a contract                                                                       Failed to properly maintain business records,                                                                        Failed to obtain Commission authorization for subcontracting or assignment.\n",
        "\n",
        "On the other hand, West and Recycler Inc. in New York state paid $500 fine the least for:\n",
        "Failed to maintain clean and odor free vehicle or container. \n",
        "Failed to comply with all laws, rules, and regulations of federal, state, and local government.\n",
        "                                                                                            \n",
        "                                                                          \n"
      ],
      "metadata": {
        "id": "MZUnVBCUerkN"
      }
    }
  ]
}